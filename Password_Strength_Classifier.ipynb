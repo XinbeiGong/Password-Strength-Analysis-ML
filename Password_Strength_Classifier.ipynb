{
 "cells": [
  {
   "cell_type": "markdown",
   "metadata": {},
   "source": [
    "## Password_Strength_Classifier\n"
   ]
  },
  {
   "cell_type": "markdown",
   "metadata": {},
   "source": [
    "### import package"
   ]
  },
  {
   "cell_type": "code",
   "execution_count": 13,
   "metadata": {
    "ExecuteTime": {
     "end_time": "2020-02-28T04:32:17.630606Z",
     "start_time": "2020-02-28T04:32:17.610605Z"
    }
   },
   "outputs": [
    {
     "name": "stdout",
     "output_type": "stream",
     "text": [
      "123456! 1\n",
      "lsdlsd1 1\n",
      "intel1 1\n",
      "lamborghin1 1\n",
      "asv5o9yu 2\n",
      "612035180tok 4\n",
      "AVYq1lDE4MgAZfNt 4\n",
      "WUt9IZzE0OQ7PkNE 4\n"
     ]
    }
   ],
   "source": [
    "from zxcvbn import zxcvbn\n",
    "password_lst = ['123456!','lsdlsd1','intel1','lamborghin1','asv5o9yu','612035180tok','AVYq1lDE4MgAZfNt','WUt9IZzE0OQ7PkNE']\n",
    "for value in password_lst:\n",
    "    results = zxcvbn(value)\n",
    "    print(value,results['score'])"
   ]
  },
  {
   "cell_type": "code",
   "execution_count": 1,
   "metadata": {
    "ExecuteTime": {
     "end_time": "2020-02-27T02:49:10.686825Z",
     "start_time": "2020-02-27T02:49:09.453264Z"
    }
   },
   "outputs": [],
   "source": [
    "import pandas as pd\n",
    "import numpy as np\n",
    "import seaborn as sns\n",
    "\n",
    "from sklearn.svm import SVC\n",
    "from sklearn.model_selection import train_test_split, cross_val_score\n",
    "from sklearn.metrics import balanced_accuracy_score, roc_auc_score\n",
    "from sklearn.preprocessing import StandardScaler\n",
    "from sklearn.metrics import classification_report\n",
    "\n",
    "from sklearn import linear_model"
   ]
  },
  {
   "cell_type": "markdown",
   "metadata": {},
   "source": [
    "### Exploratory Analysis & Preprocessing"
   ]
  },
  {
   "cell_type": "code",
   "execution_count": 2,
   "metadata": {
    "ExecuteTime": {
     "end_time": "2020-02-27T02:49:10.847345Z",
     "start_time": "2020-02-27T02:49:10.689233Z"
    },
    "scrolled": true
   },
   "outputs": [
    {
     "name": "stdout",
     "output_type": "stream",
     "text": [
      "Sample data:\n",
      "      password  strength\n",
      "0     kzde5577         1\n",
      "1     kino3434         1\n",
      "2    visi7k1yr         1\n",
      "3     megzy123         1\n",
      "4  lamborghin1         1\n"
     ]
    },
    {
     "name": "stderr",
     "output_type": "stream",
     "text": [
      "b'Skipping line 2810: expected 2 fields, saw 5\\nSkipping line 4641: expected 2 fields, saw 5\\nSkipping line 7171: expected 2 fields, saw 5\\n'\n"
     ]
    },
    {
     "data": {
      "text/plain": [
       "<matplotlib.axes._subplots.AxesSubplot at 0x1a1707f5d0>"
      ]
     },
     "execution_count": 2,
     "metadata": {},
     "output_type": "execute_result"
    },
    {
     "data": {
      "image/png": "[encoded data removed]",
      "text/plain": [
       "<Figure size 432x288 with 1 Axes>"
      ]
     },
     "metadata": {
      "needs_background": "light"
     },
     "output_type": "display_data"
    }
   ],
   "source": [
    "nRowsRead = 10000\n",
    "data = pd.read_csv('./data.csv', error_bad_lines = False, nrows=nRowsRead)\n",
    "print(f\"Sample data:\\n{data.head()}\")\n",
    "data.dropna(inplace=True) # drop NaN row\n",
    "sns.countplot(data['strength']) # Distribution graphs"
   ]
  },
  {
   "cell_type": "markdown",
   "metadata": {
    "ExecuteTime": {
     "end_time": "2020-02-26T20:15:45.548927Z",
     "start_time": "2020-02-26T20:15:45.343754Z"
    }
   },
   "source": [
    "## feature extraction"
   ]
  },
  {
   "cell_type": "markdown",
   "metadata": {},
   "source": [
    "#### UnderSample data\n"
   ]
  },
  {
   "cell_type": "markdown",
   "metadata": {},
   "source": [
    "#### hand-designed feature"
   ]
  },
  {
   "cell_type": "code",
   "execution_count": 3,
   "metadata": {
    "ExecuteTime": {
     "end_time": "2020-02-27T02:49:10.907876Z",
     "start_time": "2020-02-27T02:49:10.850230Z"
    }
   },
   "outputs": [
    {
     "data": {
      "text/html": [
       "<div>\n",
       "<style scoped>\n",
       "    .dataframe tbody tr th:only-of-type {\n",
       "        vertical-align: middle;\n",
       "    }\n",
       "\n",
       "    .dataframe tbody tr th {\n",
       "        vertical-align: top;\n",
       "    }\n",
       "\n",
       "    .dataframe thead th {\n",
       "        text-align: right;\n",
       "    }\n",
       "</style>\n",
       "<table border=\"1\" class=\"dataframe\">\n",
       "  <thead>\n",
       "    <tr style=\"text-align: right;\">\n",
       "      <th></th>\n",
       "      <th>password</th>\n",
       "      <th>strength</th>\n",
       "      <th>numerics</th>\n",
       "      <th>alpha</th>\n",
       "    </tr>\n",
       "  </thead>\n",
       "  <tbody>\n",
       "    <tr>\n",
       "      <td>0</td>\n",
       "      <td>kzde5577</td>\n",
       "      <td>1</td>\n",
       "      <td>4</td>\n",
       "      <td>4</td>\n",
       "    </tr>\n",
       "    <tr>\n",
       "      <td>1</td>\n",
       "      <td>kino3434</td>\n",
       "      <td>1</td>\n",
       "      <td>4</td>\n",
       "      <td>4</td>\n",
       "    </tr>\n",
       "    <tr>\n",
       "      <td>2</td>\n",
       "      <td>visi7k1yr</td>\n",
       "      <td>1</td>\n",
       "      <td>2</td>\n",
       "      <td>7</td>\n",
       "    </tr>\n",
       "    <tr>\n",
       "      <td>3</td>\n",
       "      <td>megzy123</td>\n",
       "      <td>1</td>\n",
       "      <td>3</td>\n",
       "      <td>5</td>\n",
       "    </tr>\n",
       "    <tr>\n",
       "      <td>4</td>\n",
       "      <td>lamborghin1</td>\n",
       "      <td>1</td>\n",
       "      <td>1</td>\n",
       "      <td>10</td>\n",
       "    </tr>\n",
       "  </tbody>\n",
       "</table>\n",
       "</div>"
      ],
      "text/plain": [
       "      password  strength  numerics  alpha\n",
       "0     kzde5577         1         4      4\n",
       "1     kino3434         1         4      4\n",
       "2    visi7k1yr         1         2      7\n",
       "3     megzy123         1         3      5\n",
       "4  lamborghin1         1         1     10"
      ]
     },
     "execution_count": 3,
     "metadata": {},
     "output_type": "execute_result"
    }
   ],
   "source": [
    "df1 = data\n",
    "# df1['length'] = df1['password'].str.len()\n",
    "df1['numerics'] = df1['password'].apply(lambda x: len([str(x) for x in list(x) if str(x).isdigit()]))\n",
    "df1['alpha'] = df1['password'].apply(lambda x: len([x for x in list(x) if x.isalpha()]))\n",
    "\n",
    "# vowels = ['a', 'e', 'i', 'o', 'u']\n",
    "# df1['vowels'] = df1['password'].apply(lambda x: \n",
    "#                                       len([x for x in list(x) if x in vowels]))\n",
    "# df1['consonants'] = df1['password'].apply(lambda x: \n",
    "#                                           len([x for x in list(x) if x not in vowels and x.isalpha()]))\n",
    "\n",
    "df1.head()"
   ]
  },
  {
   "cell_type": "code",
   "execution_count": 4,
   "metadata": {
    "ExecuteTime": {
     "end_time": "2020-02-27T02:49:10.918766Z",
     "start_time": "2020-02-27T02:49:10.910276Z"
    }
   },
   "outputs": [
    {
     "data": {
      "text/html": [
       "<div>\n",
       "<style scoped>\n",
       "    .dataframe tbody tr th:only-of-type {\n",
       "        vertical-align: middle;\n",
       "    }\n",
       "\n",
       "    .dataframe tbody tr th {\n",
       "        vertical-align: top;\n",
       "    }\n",
       "\n",
       "    .dataframe thead th {\n",
       "        text-align: right;\n",
       "    }\n",
       "</style>\n",
       "<table border=\"1\" class=\"dataframe\">\n",
       "  <thead>\n",
       "    <tr style=\"text-align: right;\">\n",
       "      <th></th>\n",
       "      <th>password</th>\n",
       "      <th>numerics</th>\n",
       "      <th>alpha</th>\n",
       "    </tr>\n",
       "  </thead>\n",
       "  <tbody>\n",
       "    <tr>\n",
       "      <td>0</td>\n",
       "      <td>kzde5577</td>\n",
       "      <td>4</td>\n",
       "      <td>4</td>\n",
       "    </tr>\n",
       "    <tr>\n",
       "      <td>1</td>\n",
       "      <td>kino3434</td>\n",
       "      <td>4</td>\n",
       "      <td>4</td>\n",
       "    </tr>\n",
       "    <tr>\n",
       "      <td>2</td>\n",
       "      <td>visi7k1yr</td>\n",
       "      <td>2</td>\n",
       "      <td>7</td>\n",
       "    </tr>\n",
       "    <tr>\n",
       "      <td>3</td>\n",
       "      <td>megzy123</td>\n",
       "      <td>3</td>\n",
       "      <td>5</td>\n",
       "    </tr>\n",
       "    <tr>\n",
       "      <td>4</td>\n",
       "      <td>lamborghin1</td>\n",
       "      <td>1</td>\n",
       "      <td>10</td>\n",
       "    </tr>\n",
       "  </tbody>\n",
       "</table>\n",
       "</div>"
      ],
      "text/plain": [
       "      password  numerics  alpha\n",
       "0     kzde5577         4      4\n",
       "1     kino3434         4      4\n",
       "2    visi7k1yr         2      7\n",
       "3     megzy123         3      5\n",
       "4  lamborghin1         1     10"
      ]
     },
     "execution_count": 4,
     "metadata": {},
     "output_type": "execute_result"
    }
   ],
   "source": [
    "y = df1['strength']\n",
    "X = df1.drop('strength', axis = 1)\n",
    "X.head()"
   ]
  },
  {
   "cell_type": "markdown",
   "metadata": {},
   "source": [
    "## Training"
   ]
  },
  {
   "cell_type": "code",
   "execution_count": 5,
   "metadata": {
    "ExecuteTime": {
     "end_time": "2020-02-27T02:49:11.056109Z",
     "start_time": "2020-02-27T02:49:10.920961Z"
    },
    "scrolled": true
   },
   "outputs": [
    {
     "name": "stdout",
     "output_type": "stream",
     "text": [
      "X_trval:(8000, 3), X_test: (2000, 3), X_train: (6400, 3), X_val: (1600, 3)\n",
      "(1600, 2)\n",
      "Accuracy of SVM Classifier (Training): 0.977\n",
      "Accuracy of SVM Classifier (Testing): 0.982\n",
      "              precision    recall  f1-score   support\n",
      "\n",
      "           0       0.99      1.00      0.99       225\n",
      "           1       0.99      1.00      0.99      1169\n",
      "           2       1.00      0.95      0.98       206\n",
      "\n",
      "    accuracy                           0.99      1600\n",
      "   macro avg       0.99      0.98      0.99      1600\n",
      "weighted avg       0.99      0.99      0.99      1600\n",
      "\n"
     ]
    }
   ],
   "source": [
    "X_trval, X_test, y_trval, y_test = train_test_split(X, y, test_size = 0.2, random_state=33)\n",
    "X_train, X_val, y_train, y_val = train_test_split(X_trval, y_trval, test_size = 0.2, random_state=33)\n",
    "print(f\"X_trval:{X_trval.shape}, X_test: {X_test.shape}, X_train: {X_train.shape}, X_val: {X_val.shape}\")\n",
    "\n",
    "X_train = X_train.drop('password', axis = 1)\n",
    "X_val = X_val.drop('password', axis = 1)\n",
    "\n",
    "clf = SVC(random_state=33,gamma='auto')\n",
    "# clf = linear_model.LinearRegression()\n",
    "\n",
    "scaler = StandardScaler().fit(X_train)\n",
    "X_train_tr = scaler.transform(X_train)\n",
    "clf.fit(X_train_tr, y_train)\n",
    "X_val_tr = scaler.transform(X_val)\n",
    "print(X_val.shape)\n",
    "y_val_pred = clf.predict(X_val_tr)\n",
    "y_train_pred = clf.predict(X_train_tr)\n",
    "\n",
    "print(\"Accuracy of SVM Classifier (Training): {0:.3f}\".format(balanced_accuracy_score(y_train, y_train_pred)))\n",
    "print(\"Accuracy of SVM Classifier (Testing): {0:.3f}\".format(balanced_accuracy_score(y_val, y_val_pred)))\n",
    "# scores = cross_val_score(clf, X_val_tr, y_val_pred, cv = 5)\n",
    "# print(\"Mean accuracy after 5-fold cross validation: {0:.3f}\".format(scores.mean()))\n",
    "print(classification_report(y_val, y_val_pred))"
   ]
  },
  {
   "cell_type": "code",
   "execution_count": 6,
   "metadata": {
    "ExecuteTime": {
     "end_time": "2020-02-27T02:49:12.003658Z",
     "start_time": "2020-02-27T02:49:11.058476Z"
    }
   },
   "outputs": [
    {
     "data": {
      "image/png": "[encoded data removed]",
      "text/plain": [
       "<Figure size 410.375x360 with 4 Axes>"
      ]
     },
     "metadata": {
      "needs_background": "light"
     },
     "output_type": "display_data"
    }
   ],
   "source": [
    "g = sns.pairplot(data = df1, hue = 'strength', vars = df1.columns.difference(['password', 'strength']), \n",
    "                 diag_kind = {'kde'}, palette = 'husl')"
   ]
  },
  {
   "cell_type": "markdown",
   "metadata": {},
   "source": [
    "### Evaluation"
   ]
  },
  {
   "cell_type": "code",
   "execution_count": 7,
   "metadata": {
    "ExecuteTime": {
     "end_time": "2020-02-27T02:49:12.027503Z",
     "start_time": "2020-02-27T02:49:12.006102Z"
    }
   },
   "outputs": [
    {
     "name": "stdout",
     "output_type": "stream",
     "text": [
      "              precision    recall  f1-score   support\n",
      "\n",
      "           0       0.99      1.00      0.99       225\n",
      "           1       0.99      1.00      0.99      1169\n",
      "           2       1.00      0.95      0.98       206\n",
      "\n",
      "    accuracy                           0.99      1600\n",
      "   macro avg       0.99      0.98      0.99      1600\n",
      "weighted avg       0.99      0.99      0.99      1600\n",
      "\n"
     ]
    }
   ],
   "source": [
    "X_test = X_test.drop('password', axis = 1)\n",
    "X_test_tr = scaler.transform(X_test)\n",
    "y_test_pred = clf.predict(X_test_tr)\n",
    "print(classification_report(y_val, y_val_pred))"
   ]
  },
  {
   "cell_type": "code",
   "execution_count": null,
   "metadata": {},
   "outputs": [],
   "source": []
  }
 ],
 "metadata": {
  "kernelspec": {
   "display_name": "Python 3.7.4 64-bit ('base': conda)",
   "language": "python",
   "name": "python37464bitbaseconda093ebc2607b04475a2aef1b1ea45bfac"
  },
  "language_info": {
   "codemirror_mode": {
    "name": "ipython",
    "version": 3
   },
   "file_extension": ".py",
   "mimetype": "text/x-python",
   "name": "python",
   "nbconvert_exporter": "python",
   "pygments_lexer": "ipython3",
   "version": "3.7.4"
  },
  "toc": {
   "base_numbering": 1,
   "nav_menu": {},
   "number_sections": true,
   "sideBar": true,
   "skip_h1_title": false,
   "title_cell": "Table of Contents",
   "title_sidebar": "Contents",
   "toc_cell": false,
   "toc_position": {
    "height": "calc(100% - 180px)",
    "left": "10px",
    "top": "150px",
    "width": "167.997px"
   },
   "toc_section_display": true,
   "toc_window_display": true
  },
  "varInspector": {
   "cols": {
    "lenName": 16,
    "lenType": 16,
    "lenVar": 40
   },
   "kernels_config": {
    "python": {
     "delete_cmd_postfix": "",
     "delete_cmd_prefix": "del ",
     "library": "var_list.py",
     "varRefreshCmd": "print(var_dic_list())"
    },
    "r": {
     "delete_cmd_postfix": ") ",
     "delete_cmd_prefix": "rm(",
     "library": "var_list.r",
     "varRefreshCmd": "cat(var_dic_list()) "
    }
   },
   "types_to_exclude": [
    "module",
    "function",
    "builtin_function_or_method",
    "instance",
    "_Feature"
   ],
   "window_display": false
  }
 },
 "nbformat": 4,
 "nbformat_minor": 2
}
